{
  "nbformat": 4,
  "nbformat_minor": 0,
  "metadata": {
    "colab": {
      "provenance": []
    },
    "kernelspec": {
      "name": "python3",
      "display_name": "Python 3"
    },
    "language_info": {
      "name": "python"
    }
  },
  "cells": [
    {
      "cell_type": "markdown",
      "source": [
        "## **Hello World**\n",
        "\n",
        "Basic `Python` for Data Analyst (Beginner)\n",
        "\n",
        "```python\n",
        "## code\n",
        "```\n",
        "\n",
        "- variable\n",
        "- data type\n",
        "- data structure\n",
        "- control flow\n",
        "- function"
      ],
      "metadata": {
        "id": "2h0yD5kAkXP0"
      }
    },
    {
      "cell_type": "code",
      "source": [
        "# basic calculation\n",
        "print(1+1)\n",
        "print(2-5)\n",
        "print(3*2)"
      ],
      "metadata": {
        "colab": {
          "base_uri": "https://localhost:8080/"
        },
        "id": "k-oMWnA-kc4K",
        "outputId": "18f0176f-be0d-46e0-f223-57318b6d8311"
      },
      "execution_count": null,
      "outputs": [
        {
          "output_type": "stream",
          "name": "stdout",
          "text": [
            "2\n",
            "-3\n",
            "6\n"
          ]
        }
      ]
    },
    {
      "cell_type": "code",
      "source": [
        "(2+5)*(3*5)"
      ],
      "metadata": {
        "colab": {
          "base_uri": "https://localhost:8080/"
        },
        "id": "O2esyU1AnNF4",
        "outputId": "daf9043c-bec3-4eed-94c0-3a2da21a56b2"
      },
      "execution_count": null,
      "outputs": [
        {
          "output_type": "execute_result",
          "data": {
            "text/plain": [
              "105"
            ]
          },
          "metadata": {},
          "execution_count": 13
        }
      ]
    },
    {
      "cell_type": "code",
      "source": [
        "## floor division\n",
        "5//2"
      ],
      "metadata": {
        "colab": {
          "base_uri": "https://localhost:8080/"
        },
        "id": "qsa6Wrk8q9zL",
        "outputId": "e5f5bb76-aecf-4f0e-a773-5a50b4492f4f"
      },
      "execution_count": null,
      "outputs": [
        {
          "output_type": "execute_result",
          "data": {
            "text/plain": [
              "2"
            ]
          },
          "metadata": {},
          "execution_count": 15
        }
      ]
    },
    {
      "cell_type": "code",
      "source": [
        "## modular or mod\n",
        "print(5 % 5)\n",
        "print(9 % 4)"
      ],
      "metadata": {
        "colab": {
          "base_uri": "https://localhost:8080/"
        },
        "id": "SvbfwXhvrWy8",
        "outputId": "40018601-108e-48fa-cafa-81a582a94f2e"
      },
      "execution_count": null,
      "outputs": [
        {
          "output_type": "stream",
          "name": "stdout",
          "text": [
            "0\n",
            "1\n"
          ]
        }
      ]
    },
    {
      "cell_type": "code",
      "source": [
        "pow(2,5)"
      ],
      "metadata": {
        "colab": {
          "base_uri": "https://localhost:8080/"
        },
        "id": "x9djMbnprnR1",
        "outputId": "4c86d65b-811a-4a2b-c177-670387646ad6"
      },
      "execution_count": null,
      "outputs": [
        {
          "output_type": "execute_result",
          "data": {
            "text/plain": [
              "32"
            ]
          },
          "metadata": {},
          "execution_count": 22
        }
      ]
    },
    {
      "cell_type": "code",
      "source": [
        "2**5"
      ],
      "metadata": {
        "colab": {
          "base_uri": "https://localhost:8080/"
        },
        "id": "sVwZSMiDsGUN",
        "outputId": "799f1657-3632-4245-a1d9-12f4fb359eb7"
      },
      "execution_count": null,
      "outputs": [
        {
          "output_type": "execute_result",
          "data": {
            "text/plain": [
              "32"
            ]
          },
          "metadata": {},
          "execution_count": 21
        }
      ]
    },
    {
      "cell_type": "code",
      "source": [
        "## variable\n",
        "x = 100\n",
        "y = 200\n",
        "print(x+y)"
      ],
      "metadata": {
        "colab": {
          "base_uri": "https://localhost:8080/"
        },
        "id": "s6sVjvppt6PE",
        "outputId": "a965689f-a7e8-4acd-86cc-4686c11ee23e"
      },
      "execution_count": null,
      "outputs": [
        {
          "output_type": "stream",
          "name": "stdout",
          "text": [
            "300\n"
          ]
        }
      ]
    },
    {
      "cell_type": "code",
      "source": [
        "my_university_name = \"Kasetsart\""
      ],
      "metadata": {
        "id": "mj4KaEdjvONe"
      },
      "execution_count": null,
      "outputs": []
    },
    {
      "cell_type": "code",
      "source": [
        "print(my_university_name)"
      ],
      "metadata": {
        "colab": {
          "base_uri": "https://localhost:8080/"
        },
        "id": "09N0cxHNvVXm",
        "outputId": "eb5069e2-d77c-48d9-97a1-fd1a9e7221c0"
      },
      "execution_count": null,
      "outputs": [
        {
          "output_type": "stream",
          "name": "stdout",
          "text": [
            "Kasetsart\n"
          ]
        }
      ]
    },
    {
      "cell_type": "code",
      "source": [
        "del my_university_name"
      ],
      "metadata": {
        "id": "ObJSWlfavZRv"
      },
      "execution_count": null,
      "outputs": []
    },
    {
      "cell_type": "code",
      "source": [
        "## replace value\n",
        "x = 100\n",
        "x = 150\n",
        "print(x)"
      ],
      "metadata": {
        "colab": {
          "base_uri": "https://localhost:8080/"
        },
        "id": "EROk8s5ywFZj",
        "outputId": "75ce697e-508e-416f-da5f-eaeef79d8a6c"
      },
      "execution_count": null,
      "outputs": [
        {
          "output_type": "stream",
          "name": "stdout",
          "text": [
            "150\n"
          ]
        }
      ]
    },
    {
      "cell_type": "code",
      "source": [
        "x,y,z = 1,\"arm\",3\n",
        "print(x,y,z)"
      ],
      "metadata": {
        "colab": {
          "base_uri": "https://localhost:8080/"
        },
        "id": "ckAZVVgtw0IY",
        "outputId": "ae4928c9-9609-4ab9-9965-a08946fece9f"
      },
      "execution_count": null,
      "outputs": [
        {
          "output_type": "stream",
          "name": "stdout",
          "text": [
            "1 arm 3\n"
          ]
        }
      ]
    },
    {
      "cell_type": "code",
      "source": [
        "# R for small data, prototyping.\n",
        "# Python for larger data, software. data science, ai, app.\n",
        "\n",
        "# R is statistical language vs. Python is a general language"
      ],
      "metadata": {
        "id": "ntovhphNw93A"
      },
      "execution_count": null,
      "outputs": []
    },
    {
      "cell_type": "code",
      "source": [
        "# R is specialist (stats)\n",
        "# Python is generalist (app, data, software, ai)"
      ],
      "metadata": {
        "id": "axbeN_V70P0a"
      },
      "execution_count": null,
      "outputs": []
    },
    {
      "cell_type": "code",
      "source": [
        "# variable\n",
        "my_name = \"arm\"\n",
        "age = 35\n",
        "friends = [\"sit\", \"ben\", \"rut\"] # list\n",
        "fav_food = (\"hotdog\",\"coke\",\"french fries\") # tuple"
      ],
      "metadata": {
        "id": "tZ2JWTM10TnL"
      },
      "execution_count": null,
      "outputs": []
    },
    {
      "cell_type": "code",
      "source": [
        "friends[0]"
      ],
      "metadata": {
        "colab": {
          "base_uri": "https://localhost:8080/",
          "height": 35
        },
        "id": "MVU8FdE52SI6",
        "outputId": "d29a2fa7-530a-488a-e8f6-7aec33207cce"
      },
      "execution_count": null,
      "outputs": [
        {
          "output_type": "execute_result",
          "data": {
            "text/plain": [
              "'sit'"
            ],
            "application/vnd.google.colaboratory.intrinsic+json": {
              "type": "string"
            }
          },
          "metadata": {},
          "execution_count": 36
        }
      ]
    },
    {
      "cell_type": "code",
      "source": [
        "friends[0] = \"phusit\""
      ],
      "metadata": {
        "id": "QvpRrTS92VTm"
      },
      "execution_count": null,
      "outputs": []
    },
    {
      "cell_type": "code",
      "source": [
        "friends"
      ],
      "metadata": {
        "colab": {
          "base_uri": "https://localhost:8080/"
        },
        "id": "2kkgrjs82cHL",
        "outputId": "85c6d702-face-4146-ba94-94ead2a5541d"
      },
      "execution_count": null,
      "outputs": [
        {
          "output_type": "execute_result",
          "data": {
            "text/plain": [
              "['phusit', 'ben', 'rut']"
            ]
          },
          "metadata": {},
          "execution_count": 40
        }
      ]
    },
    {
      "cell_type": "code",
      "source": [
        "## data types\n",
        "## int, float, str, bool\n",
        "age = 35\n",
        "type(age)"
      ],
      "metadata": {
        "colab": {
          "base_uri": "https://localhost:8080/"
        },
        "id": "pldQWgaJ4ICV",
        "outputId": "5882dd9a-928c-4b21-b4e0-0de883cee7d5"
      },
      "execution_count": null,
      "outputs": [
        {
          "output_type": "execute_result",
          "data": {
            "text/plain": [
              "int"
            ]
          },
          "metadata": {},
          "execution_count": 41
        }
      ]
    },
    {
      "cell_type": "code",
      "source": [
        "gpa = 3.41\n",
        "type(gpa)"
      ],
      "metadata": {
        "colab": {
          "base_uri": "https://localhost:8080/"
        },
        "id": "6wX-_W994kcH",
        "outputId": "9bc9c3ec-b58d-4e61-da6c-a4c68247e925"
      },
      "execution_count": null,
      "outputs": [
        {
          "output_type": "execute_result",
          "data": {
            "text/plain": [
              "float"
            ]
          },
          "metadata": {},
          "execution_count": 42
        }
      ]
    },
    {
      "cell_type": "code",
      "source": [
        "name = \"arm\"\n",
        "type(name)"
      ],
      "metadata": {
        "colab": {
          "base_uri": "https://localhost:8080/"
        },
        "id": "4YuAAPaf4pVM",
        "outputId": "921c94fa-2743-4a31-b3ec-bb5bf8966dba"
      },
      "execution_count": null,
      "outputs": [
        {
          "output_type": "execute_result",
          "data": {
            "text/plain": [
              "str"
            ]
          },
          "metadata": {},
          "execution_count": 43
        }
      ]
    },
    {
      "cell_type": "code",
      "source": [
        "result = age < 40\n",
        "print(result, type(result))"
      ],
      "metadata": {
        "colab": {
          "base_uri": "https://localhost:8080/"
        },
        "id": "lsXR0uOr4tgB",
        "outputId": "b940a650-1cb3-48a6-eecb-717039fce618"
      },
      "execution_count": null,
      "outputs": [
        {
          "output_type": "stream",
          "name": "stdout",
          "text": [
            "True <class 'bool'>\n"
          ]
        }
      ]
    },
    {
      "cell_type": "code",
      "source": [
        "# both is the same\n",
        "True, False, True # it's tuple\n",
        "my_bool = (True, False, True)\n",
        "print(type(my_bool))\n",
        "my_bool = [True, False, True]\n",
        "print(type(my_bool))"
      ],
      "metadata": {
        "colab": {
          "base_uri": "https://localhost:8080/"
        },
        "id": "H_tBmVz34zcQ",
        "outputId": "8b1cd7d2-07d8-4c24-8a30-f09884184453"
      },
      "execution_count": null,
      "outputs": [
        {
          "output_type": "stream",
          "name": "stdout",
          "text": [
            "<class 'tuple'>\n",
            "<class 'list'>\n"
          ]
        }
      ]
    },
    {
      "cell_type": "code",
      "source": [
        "## convert type\n",
        "str(36)"
      ],
      "metadata": {
        "colab": {
          "base_uri": "https://localhost:8080/",
          "height": 35
        },
        "id": "tMp9rUL35GVg",
        "outputId": "ef55505a-b23e-4a2c-eac8-cdcd0b892def"
      },
      "execution_count": null,
      "outputs": [
        {
          "output_type": "execute_result",
          "data": {
            "text/plain": [
              "'36'"
            ],
            "application/vnd.google.colaboratory.intrinsic+json": {
              "type": "string"
            }
          },
          "metadata": {},
          "execution_count": 1
        }
      ]
    },
    {
      "cell_type": "code",
      "source": [
        "int(\"36\")"
      ],
      "metadata": {
        "colab": {
          "base_uri": "https://localhost:8080/"
        },
        "id": "FHQAI6g7v6EP",
        "outputId": "40ebaa93-350f-43fb-c278-125ae9dbd815"
      },
      "execution_count": null,
      "outputs": [
        {
          "output_type": "execute_result",
          "data": {
            "text/plain": [
              "36"
            ]
          },
          "metadata": {},
          "execution_count": 2
        }
      ]
    },
    {
      "cell_type": "code",
      "source": [
        "float(\"36\")"
      ],
      "metadata": {
        "colab": {
          "base_uri": "https://localhost:8080/"
        },
        "id": "CXhx8UI2wBaH",
        "outputId": "72d7905d-dafe-4704-f239-0f144b4f6119"
      },
      "execution_count": null,
      "outputs": [
        {
          "output_type": "execute_result",
          "data": {
            "text/plain": [
              "36.0"
            ]
          },
          "metadata": {},
          "execution_count": 3
        }
      ]
    },
    {
      "cell_type": "code",
      "source": [
        "## True = 1, False = 0"
      ],
      "metadata": {
        "colab": {
          "base_uri": "https://localhost:8080/"
        },
        "id": "2jMNy5kUwEDl",
        "outputId": "5a991e0c-a659-476e-f5c6-ce2804832475"
      },
      "execution_count": null,
      "outputs": [
        {
          "output_type": "execute_result",
          "data": {
            "text/plain": [
              "True"
            ]
          },
          "metadata": {},
          "execution_count": 4
        }
      ]
    },
    {
      "cell_type": "markdown",
      "source": [],
      "metadata": {
        "id": "cUOb916YxGM0"
      }
    },
    {
      "cell_type": "code",
      "source": [
        "bool(1)"
      ],
      "metadata": {
        "colab": {
          "base_uri": "https://localhost:8080/"
        },
        "id": "2eNtOL_wwHyH",
        "outputId": "f331f34c-8cef-4807-910c-46a7495d96b2"
      },
      "execution_count": null,
      "outputs": [
        {
          "output_type": "execute_result",
          "data": {
            "text/plain": [
              "True"
            ]
          },
          "metadata": {},
          "execution_count": 6
        }
      ]
    },
    {
      "cell_type": "code",
      "source": [
        "bool(0)"
      ],
      "metadata": {
        "colab": {
          "base_uri": "https://localhost:8080/"
        },
        "id": "GFSkrzyRwJL8",
        "outputId": "b2e6f3b3-8dce-4054-ca0a-d7127206417f"
      },
      "execution_count": null,
      "outputs": [
        {
          "output_type": "execute_result",
          "data": {
            "text/plain": [
              "False"
            ]
          },
          "metadata": {},
          "execution_count": 7
        }
      ]
    },
    {
      "cell_type": "markdown",
      "source": [
        "## **Working with String**"
      ],
      "metadata": {
        "id": "zj5LAQhMxJce"
      }
    },
    {
      "cell_type": "code",
      "source": [
        "## fstring => format string\n",
        "name = \"arm\"\n",
        "gpa = 2.73\n",
        "\n",
        "text = f\"{name} graduates from KU with gpa {gpa}\"\n",
        "print(text)"
      ],
      "metadata": {
        "colab": {
          "base_uri": "https://localhost:8080/"
        },
        "id": "8GhJfSoRxX21",
        "outputId": "1dc6dcbf-6557-4017-b8ba-7305f8db48bc"
      },
      "execution_count": null,
      "outputs": [
        {
          "output_type": "stream",
          "name": "stdout",
          "text": [
            "arm graduates from KU with gpa 2.73\n"
          ]
        }
      ]
    },
    {
      "cell_type": "code",
      "source": [
        "## long string\n",
        "long_str = \"\"\"\n",
        "\n",
        "\n",
        "I love Mcdonald's\n",
        "Planning to have it for Lunch\n",
        "Very Cool!\n",
        "\"\"\""
      ],
      "metadata": {
        "id": "iE2-InpFxzSt"
      },
      "execution_count": null,
      "outputs": []
    },
    {
      "cell_type": "code",
      "source": [
        "long_str"
      ],
      "metadata": {
        "colab": {
          "base_uri": "https://localhost:8080/",
          "height": 35
        },
        "id": "uD2tSVEK0Q4v",
        "outputId": "2d72c624-b695-40bf-c64f-af85e2b3d488"
      },
      "execution_count": null,
      "outputs": [
        {
          "output_type": "execute_result",
          "data": {
            "text/plain": [
              "\"\\n\\n\\nI love Mcdonald's\\nPlanning to have it for Lunch\\nVery Cool!\\n\""
            ],
            "application/vnd.google.colaboratory.intrinsic+json": {
              "type": "string"
            }
          },
          "metadata": {},
          "execution_count": 12
        }
      ]
    },
    {
      "cell_type": "code",
      "source": [
        "## funtion vs. method\n",
        "text = \"a duck walks into a bar\"\n",
        "len(text)\n",
        "print(text)"
      ],
      "metadata": {
        "colab": {
          "base_uri": "https://localhost:8080/"
        },
        "id": "KWng3xHN0UJZ",
        "outputId": "d6d4a953-8d6a-4613-9650-879fc9c87053"
      },
      "execution_count": null,
      "outputs": [
        {
          "output_type": "stream",
          "name": "stdout",
          "text": [
            "a duck walks into a bar\n"
          ]
        }
      ]
    },
    {
      "cell_type": "code",
      "source": [
        "## method is a funtion created specifically to an object\n",
        "## string method\n",
        "text.upper()"
      ],
      "metadata": {
        "colab": {
          "base_uri": "https://localhost:8080/",
          "height": 35
        },
        "id": "11kLgKfB1cbt",
        "outputId": "be84b733-9ad9-428e-a4ac-d3fe81c759ad"
      },
      "execution_count": null,
      "outputs": [
        {
          "output_type": "execute_result",
          "data": {
            "text/plain": [
              "'A DUCK WALKS INTO A BAR'"
            ],
            "application/vnd.google.colaboratory.intrinsic+json": {
              "type": "string"
            }
          },
          "metadata": {},
          "execution_count": 16
        }
      ]
    },
    {
      "cell_type": "code",
      "source": [
        "text.replace(\"duck\", \"lion\")"
      ],
      "metadata": {
        "colab": {
          "base_uri": "https://localhost:8080/",
          "height": 35
        },
        "id": "23mYXODW1kk6",
        "outputId": "e1ff0601-bf76-47b7-b414-a459d62b4e8b"
      },
      "execution_count": null,
      "outputs": [
        {
          "output_type": "execute_result",
          "data": {
            "text/plain": [
              "'a lion walks into a bar'"
            ],
            "application/vnd.google.colaboratory.intrinsic+json": {
              "type": "string"
            }
          },
          "metadata": {},
          "execution_count": 32
        }
      ]
    },
    {
      "cell_type": "code",
      "source": [
        "text.count(\"a\")"
      ],
      "metadata": {
        "colab": {
          "base_uri": "https://localhost:8080/"
        },
        "id": "uymDwFn52qy2",
        "outputId": "ca6819ec-61b2-4ce7-bef5-e09c3680234b"
      },
      "execution_count": null,
      "outputs": [
        {
          "output_type": "execute_result",
          "data": {
            "text/plain": [
              "4"
            ]
          },
          "metadata": {},
          "execution_count": 19
        }
      ]
    },
    {
      "cell_type": "code",
      "source": [
        "text.split(\" \")"
      ],
      "metadata": {
        "colab": {
          "base_uri": "https://localhost:8080/"
        },
        "id": "zvrMilVh3cS3",
        "outputId": "f15cd49b-5be4-4342-a269-6db355cb5415"
      },
      "execution_count": null,
      "outputs": [
        {
          "output_type": "execute_result",
          "data": {
            "text/plain": [
              "['a', 'duck', 'walks', 'into', 'a', 'bar']"
            ]
          },
          "metadata": {},
          "execution_count": 20
        }
      ]
    },
    {
      "cell_type": "code",
      "source": [
        "## replace new value\n",
        "text = text.replace(\"duck\", \"lion\")\n",
        "text.split(\" \")"
      ],
      "metadata": {
        "colab": {
          "base_uri": "https://localhost:8080/"
        },
        "id": "DmR0fgYW52xC",
        "outputId": "38aa3758-510f-48a9-966c-273c27bd1d89"
      },
      "execution_count": null,
      "outputs": [
        {
          "output_type": "execute_result",
          "data": {
            "text/plain": [
              "['a', 'lion', 'walks', 'into', 'a', 'bar']"
            ]
          },
          "metadata": {},
          "execution_count": 38
        }
      ]
    },
    {
      "cell_type": "code",
      "source": [
        "## join string\n",
        "result = text.split(\" \")\n",
        "text = \" \".join(result)\n",
        "print(text)"
      ],
      "metadata": {
        "colab": {
          "base_uri": "https://localhost:8080/"
        },
        "id": "jo8uQCSD7ULg",
        "outputId": "589fbee9-565d-4119-c12e-ed127ac9d9bf"
      },
      "execution_count": null,
      "outputs": [
        {
          "output_type": "stream",
          "name": "stdout",
          "text": [
            "a lion walks into a bar\n"
          ]
        }
      ]
    },
    {
      "cell_type": "code",
      "source": [
        "## index starts with 0\n",
        "text = \"python\"\n",
        "print(text[1])\n",
        "print(text[-1])\n",
        "print(text[-2])\n",
        "print(text[-3])\n",
        "print(text[3])"
      ],
      "metadata": {
        "colab": {
          "base_uri": "https://localhost:8080/"
        },
        "id": "G7bSa9ZP6_ey",
        "outputId": "a0bdd0d6-451c-4d52-d513-6fda453a9c7e"
      },
      "execution_count": null,
      "outputs": [
        {
          "output_type": "stream",
          "name": "stdout",
          "text": [
            "y\n",
            "n\n",
            "o\n",
            "h\n",
            "h\n"
          ]
        }
      ]
    },
    {
      "cell_type": "code",
      "source": [
        "## slice text\n",
        "print(text[0:3])\n",
        "print(text[3:6])\n",
        "print(text[3:])\n",
        "print(text[1:])"
      ],
      "metadata": {
        "colab": {
          "base_uri": "https://localhost:8080/"
        },
        "id": "ITA7tdEv-A01",
        "outputId": "57c9aeb9-1f45-4b20-ec53-dff9a8af51d0"
      },
      "execution_count": null,
      "outputs": [
        {
          "output_type": "stream",
          "name": "stdout",
          "text": [
            "pyt\n",
            "hon\n",
            "hon\n",
            "ython\n"
          ]
        }
      ]
    },
    {
      "cell_type": "code",
      "source": [
        "## text + text\n",
        "\"Python\" + \" is awesome\" + \" and I love it.\""
      ],
      "metadata": {
        "colab": {
          "base_uri": "https://localhost:8080/",
          "height": 35
        },
        "id": "n17hniERA7WD",
        "outputId": "05fe4be7-3d4f-4e06-aeef-b75ab618886f"
      },
      "execution_count": null,
      "outputs": [
        {
          "output_type": "execute_result",
          "data": {
            "text/plain": [
              "'Python is awesome and I love it.'"
            ],
            "application/vnd.google.colaboratory.intrinsic+json": {
              "type": "string"
            }
          },
          "metadata": {},
          "execution_count": 44
        }
      ]
    },
    {
      "cell_type": "code",
      "source": [
        "\"hello \" * 3"
      ],
      "metadata": {
        "colab": {
          "base_uri": "https://localhost:8080/",
          "height": 35
        },
        "id": "k9Ql9QGNCvl0",
        "outputId": "2a2fd045-142f-4986-99f0-a6297c904f72"
      },
      "execution_count": null,
      "outputs": [
        {
          "output_type": "execute_result",
          "data": {
            "text/plain": [
              "'hello hello hello '"
            ],
            "application/vnd.google.colaboratory.intrinsic+json": {
              "type": "string"
            }
          },
          "metadata": {},
          "execution_count": 45
        }
      ]
    },
    {
      "cell_type": "code",
      "source": [
        "\"Python\""
      ],
      "metadata": {
        "colab": {
          "base_uri": "https://localhost:8080/",
          "height": 35
        },
        "id": "0bLDAq3jCzYZ",
        "outputId": "0beb672e-cf8f-4c33-8dbc-37e53929d6fe"
      },
      "execution_count": null,
      "outputs": [
        {
          "output_type": "execute_result",
          "data": {
            "text/plain": [
              "'Python'"
            ],
            "application/vnd.google.colaboratory.intrinsic+json": {
              "type": "string"
            }
          },
          "metadata": {},
          "execution_count": 48
        }
      ]
    },
    {
      "cell_type": "code",
      "source": [
        "## reverse string\n",
        "\"Python\"[::-1]"
      ],
      "metadata": {
        "colab": {
          "base_uri": "https://localhost:8080/",
          "height": 35
        },
        "id": "pLlD0j-ADsJM",
        "outputId": "64aeae05-60be-41fc-da8f-32501d6d3640"
      },
      "execution_count": null,
      "outputs": [
        {
          "output_type": "execute_result",
          "data": {
            "text/plain": [
              "'nohtyP'"
            ],
            "application/vnd.google.colaboratory.intrinsic+json": {
              "type": "string"
            }
          },
          "metadata": {},
          "execution_count": 49
        }
      ]
    },
    {
      "cell_type": "code",
      "source": [
        "## can slice with skip\n",
        "\"I am learning Python today\"[0:15:2] ## slice index 0 - 15 then skip with 2"
      ],
      "metadata": {
        "colab": {
          "base_uri": "https://localhost:8080/",
          "height": 35
        },
        "id": "KzOZMtdDDui1",
        "outputId": "8d40f7fd-ed44-4cda-cbaa-db430ddfebd9"
      },
      "execution_count": null,
      "outputs": [
        {
          "output_type": "execute_result",
          "data": {
            "text/plain": [
              "'Ia erigP'"
            ],
            "application/vnd.google.colaboratory.intrinsic+json": {
              "type": "string"
            }
          },
          "metadata": {},
          "execution_count": 51
        }
      ]
    },
    {
      "cell_type": "code",
      "source": [
        "## String is immutable\n",
        "text = \"python\"\n",
        "\n",
        "text[0] = \"C\""
      ],
      "metadata": {
        "colab": {
          "base_uri": "https://localhost:8080/",
          "height": 176
        },
        "id": "vQeV9pE7D5I2",
        "outputId": "55718ac5-acba-46af-e5b8-6d82629427c0"
      },
      "execution_count": null,
      "outputs": [
        {
          "output_type": "error",
          "ename": "TypeError",
          "evalue": "'str' object does not support item assignment",
          "traceback": [
            "\u001b[0;31m---------------------------------------------------------------------------\u001b[0m",
            "\u001b[0;31mTypeError\u001b[0m                                 Traceback (most recent call last)",
            "\u001b[0;32m<ipython-input-52-3f8258e6a14f>\u001b[0m in \u001b[0;36m<cell line: 4>\u001b[0;34m()\u001b[0m\n\u001b[1;32m      2\u001b[0m \u001b[0mtext\u001b[0m \u001b[0;34m=\u001b[0m \u001b[0;34m\"python\"\u001b[0m\u001b[0;34m\u001b[0m\u001b[0;34m\u001b[0m\u001b[0m\n\u001b[1;32m      3\u001b[0m \u001b[0;34m\u001b[0m\u001b[0m\n\u001b[0;32m----> 4\u001b[0;31m \u001b[0mtext\u001b[0m\u001b[0;34m[\u001b[0m\u001b[0;36m0\u001b[0m\u001b[0;34m]\u001b[0m \u001b[0;34m=\u001b[0m \u001b[0;34m\"u\"\u001b[0m\u001b[0;34m\u001b[0m\u001b[0;34m\u001b[0m\u001b[0m\n\u001b[0m",
            "\u001b[0;31mTypeError\u001b[0m: 'str' object does not support item assignment"
          ]
        }
      ]
    },
    {
      "cell_type": "code",
      "source": [
        "text = \"python\"\n",
        "\n",
        "print(\"C\" + text[1:])"
      ],
      "metadata": {
        "colab": {
          "base_uri": "https://localhost:8080/"
        },
        "id": "ZV_nF4XoE3JX",
        "outputId": "ff8cfeb4-c3d3-4375-cb4e-49b1c703b367"
      },
      "execution_count": null,
      "outputs": [
        {
          "output_type": "stream",
          "name": "stdout",
          "text": [
            "Cython\n"
          ]
        }
      ]
    },
    {
      "cell_type": "markdown",
      "source": [
        "## **Data Structures**\n",
        "\n",
        "1. List\n",
        "2. Tuple\n",
        "3. Dict\n",
        "4. Set"
      ],
      "metadata": {
        "id": "Bf-_V4ZqGEwB"
      }
    },
    {
      "cell_type": "code",
      "source": [
        "## list, ordered, mutable object\n",
        "shopping_list = [\"egg\", \"milk\", \"vitamilk\", \"bread\"]"
      ],
      "metadata": {
        "id": "pHSWPzR4GPVo"
      },
      "execution_count": null,
      "outputs": []
    },
    {
      "cell_type": "code",
      "source": [
        "shopping_list[-2]"
      ],
      "metadata": {
        "colab": {
          "base_uri": "https://localhost:8080/",
          "height": 35
        },
        "id": "otHP1KbAGm41",
        "outputId": "ad526b87-5621-4978-b8aa-ad7ee552b766"
      },
      "execution_count": null,
      "outputs": [
        {
          "output_type": "execute_result",
          "data": {
            "text/plain": [
              "'vitamilk'"
            ],
            "application/vnd.google.colaboratory.intrinsic+json": {
              "type": "string"
            }
          },
          "metadata": {},
          "execution_count": 55
        }
      ]
    },
    {
      "cell_type": "code",
      "source": [
        "shopping_list[0] = \"egg egg\"\n",
        "shopping_list[2] = \"lactasoy\""
      ],
      "metadata": {
        "id": "6vSkkJsRGp9h"
      },
      "execution_count": null,
      "outputs": []
    },
    {
      "cell_type": "code",
      "source": [
        "shopping_list"
      ],
      "metadata": {
        "colab": {
          "base_uri": "https://localhost:8080/"
        },
        "id": "jLtuRotJGwUe",
        "outputId": "48b76f7b-f7e0-4ad9-af70-cd00493b4f13"
      },
      "execution_count": null,
      "outputs": [
        {
          "output_type": "execute_result",
          "data": {
            "text/plain": [
              "['egg egg', 'milk', 'lactasoy', 'bread']"
            ]
          },
          "metadata": {},
          "execution_count": 59
        }
      ]
    },
    {
      "cell_type": "code",
      "source": [
        "## list method\n",
        "shopping_list.append(\"butter\")\n",
        "shopping_list"
      ],
      "metadata": {
        "colab": {
          "base_uri": "https://localhost:8080/"
        },
        "id": "CF6NeiJrGyPh",
        "outputId": "2727bbb0-ea58-4781-db2f-163d0cb7aa8b"
      },
      "execution_count": null,
      "outputs": [
        {
          "output_type": "execute_result",
          "data": {
            "text/plain": [
              "['egg egg', 'milk', 'lactasoy', 'bread', 'butter']"
            ]
          },
          "metadata": {},
          "execution_count": 68
        }
      ]
    },
    {
      "cell_type": "code",
      "source": [
        "shopping_list.pop()\n",
        "shopping_list"
      ],
      "metadata": {
        "colab": {
          "base_uri": "https://localhost:8080/"
        },
        "id": "byVl27P6IGH3",
        "outputId": "4edbd2b1-b3a1-4a04-ea7f-f2605e531ef1"
      },
      "execution_count": null,
      "outputs": [
        {
          "output_type": "execute_result",
          "data": {
            "text/plain": [
              "['egg egg', 'milk', 'lactasoy', 'bread']"
            ]
          },
          "metadata": {},
          "execution_count": 69
        }
      ]
    },
    {
      "cell_type": "code",
      "source": [
        "shopping_list.remove(\"milk\")\n",
        "shopping_list"
      ],
      "metadata": {
        "colab": {
          "base_uri": "https://localhost:8080/"
        },
        "id": "SbEQwHcdIZ8C",
        "outputId": "cbdf16a6-689a-446a-962c-e3b22118f047"
      },
      "execution_count": null,
      "outputs": [
        {
          "output_type": "execute_result",
          "data": {
            "text/plain": [
              "['egg egg', 'lactasoy', 'bread']"
            ]
          },
          "metadata": {},
          "execution_count": 70
        }
      ]
    },
    {
      "cell_type": "code",
      "source": [
        "shopping_list.append(\"milk\")\n",
        "shopping_list.append(\"milk\")\n",
        "shopping_list"
      ],
      "metadata": {
        "colab": {
          "base_uri": "https://localhost:8080/"
        },
        "id": "WRqY48THJMpf",
        "outputId": "142c57e5-9239-4386-caed-fc9bb79a7382"
      },
      "execution_count": null,
      "outputs": [
        {
          "output_type": "execute_result",
          "data": {
            "text/plain": [
              "['egg egg', 'lactasoy', 'bread', 'milk', 'milk']"
            ]
          },
          "metadata": {},
          "execution_count": 71
        }
      ]
    },
    {
      "cell_type": "code",
      "source": [
        "shopping_list.count(\"milk\")"
      ],
      "metadata": {
        "colab": {
          "base_uri": "https://localhost:8080/"
        },
        "id": "6dgXvjLjJeCY",
        "outputId": "16599101-4e6f-44ad-e4d4-baf82e9bdddf"
      },
      "execution_count": null,
      "outputs": [
        {
          "output_type": "execute_result",
          "data": {
            "text/plain": [
              "2"
            ]
          },
          "metadata": {},
          "execution_count": 73
        }
      ]
    },
    {
      "cell_type": "code",
      "source": [
        "# reverse\n",
        "shopping = [\"milk\", \"bread\", \"egg\", \"creamcheese\"]"
      ],
      "metadata": {
        "id": "P5iHgTWBJjNN"
      },
      "execution_count": null,
      "outputs": []
    },
    {
      "cell_type": "code",
      "source": [
        "shopping.sort(reverse=False)\n",
        "print(shopping)"
      ],
      "metadata": {
        "colab": {
          "base_uri": "https://localhost:8080/"
        },
        "id": "5sjlhRKaKmkt",
        "outputId": "e447ed9d-e5e1-4573-cc5a-b29336b8f25f"
      },
      "execution_count": null,
      "outputs": [
        {
          "output_type": "stream",
          "name": "stdout",
          "text": [
            "['bread', 'creamcheese', 'egg', 'milk']\n"
          ]
        }
      ]
    },
    {
      "cell_type": "code",
      "source": [
        "shopping.append(\"strawberry\")\n",
        "shopping"
      ],
      "metadata": {
        "colab": {
          "base_uri": "https://localhost:8080/"
        },
        "id": "EMzh_WDtK_Ns",
        "outputId": "4a5c8d27-f106-460c-9d21-8501a9e59505"
      },
      "execution_count": null,
      "outputs": [
        {
          "output_type": "execute_result",
          "data": {
            "text/plain": [
              "['milk', 'bread', 'egg', 'creamcheese', 'strawberry']"
            ]
          },
          "metadata": {},
          "execution_count": 4
        }
      ]
    },
    {
      "cell_type": "code",
      "source": [
        "shopping.insert(1, \"orange\") #inplace\n",
        "shopping"
      ],
      "metadata": {
        "colab": {
          "base_uri": "https://localhost:8080/"
        },
        "id": "ktOkVv5sMMSX",
        "outputId": "d564c417-18a9-4d7d-89ec-e860e428c00c"
      },
      "execution_count": null,
      "outputs": [
        {
          "output_type": "execute_result",
          "data": {
            "text/plain": [
              "['milk', 'orange', 'bread', 'egg', 'creamcheese', 'strawberry']"
            ]
          },
          "metadata": {},
          "execution_count": 5
        }
      ]
    },
    {
      "cell_type": "code",
      "source": [
        "## list + list\n",
        "[\"item1\", \"item2\"] + [\"item3\", \"item4\"]"
      ],
      "metadata": {
        "colab": {
          "base_uri": "https://localhost:8080/"
        },
        "id": "yS9gusDuMTf_",
        "outputId": "87a6eafc-0b3e-4e89-976c-68c48548d817"
      },
      "execution_count": null,
      "outputs": [
        {
          "output_type": "execute_result",
          "data": {
            "text/plain": [
              "['item1', 'item2', 'item3', 'item4']"
            ]
          },
          "metadata": {},
          "execution_count": 83
        }
      ]
    },
    {
      "cell_type": "code",
      "source": [
        "## loop through shopping list\n",
        "for item in shopping:\n",
        "    print(\"I have to but \" + item)"
      ],
      "metadata": {
        "colab": {
          "base_uri": "https://localhost:8080/"
        },
        "id": "BQz33xpwNdKM",
        "outputId": "f2589b4c-2b17-48bf-990e-2fb4c74e51f5"
      },
      "execution_count": null,
      "outputs": [
        {
          "output_type": "stream",
          "name": "stdout",
          "text": [
            "milk\n",
            "orange\n",
            "bread\n",
            "egg\n",
            "creamcheese\n",
            "strawberry\n"
          ]
        }
      ]
    },
    {
      "cell_type": "code",
      "source": [
        "for item in shopping:\n",
        "    print(len(item))"
      ],
      "metadata": {
        "colab": {
          "base_uri": "https://localhost:8080/"
        },
        "id": "0wS4r-o-5Yv3",
        "outputId": "94af946a-e4b1-491c-ca9d-6db3d012911b"
      },
      "execution_count": null,
      "outputs": [
        {
          "output_type": "stream",
          "name": "stdout",
          "text": [
            "4\n",
            "6\n",
            "5\n",
            "3\n",
            "11\n",
            "10\n"
          ]
        }
      ]
    },
    {
      "cell_type": "code",
      "source": [
        "for item in shopping:\n",
        "    print(item.upper())"
      ],
      "metadata": {
        "colab": {
          "base_uri": "https://localhost:8080/"
        },
        "id": "EmTR17096EXW",
        "outputId": "15c267bb-f01d-4c5a-971a-32a1ee1bb7db"
      },
      "execution_count": null,
      "outputs": [
        {
          "output_type": "stream",
          "name": "stdout",
          "text": [
            "MILK\n",
            "ORANGE\n",
            "BREAD\n",
            "EGG\n",
            "CREAMCHEESE\n",
            "STRAWBERRY\n"
          ]
        }
      ]
    },
    {
      "cell_type": "code",
      "source": [
        "for item in shopping:\n",
        "    if len(item) <= 4:\n",
        "        continue\n",
        "    else:\n",
        "        print(\"I need to buy \" + item)"
      ],
      "metadata": {
        "colab": {
          "base_uri": "https://localhost:8080/"
        },
        "id": "HGS3rTtW6LiJ",
        "outputId": "f0846a9b-8249-4c09-e909-9b43e00474fe"
      },
      "execution_count": null,
      "outputs": [
        {
          "output_type": "stream",
          "name": "stdout",
          "text": [
            "I need to buy orange\n",
            "I need to buy bread\n",
            "I need to buy creamcheese\n",
            "I need to buy strawberry\n"
          ]
        }
      ]
    },
    {
      "cell_type": "code",
      "source": [
        "## average revenue per user (ARPU)\n",
        "spending = [500, 1200, 800, 300, 900]\n",
        "for spend in spending:\n",
        "    if spend >= 900:\n",
        "        print(\"high spender\")\n",
        "    else:\n",
        "        print(\"low spender\")"
      ],
      "metadata": {
        "colab": {
          "base_uri": "https://localhost:8080/"
        },
        "id": "x7imib_E7gQ8",
        "outputId": "223902ac-f8bf-4ad4-9755-983683793b24"
      },
      "execution_count": null,
      "outputs": [
        {
          "output_type": "stream",
          "name": "stdout",
          "text": [
            "low spender\n",
            "high spender\n",
            "low spender\n",
            "low spender\n",
            "high spender\n"
          ]
        }
      ]
    },
    {
      "cell_type": "code",
      "source": [
        "# example list comprehension\n",
        "scores = [80, 90, 75, 60, 59, 82]\n",
        "new_scores = [score+5 for score in scores]\n",
        "print(new_scores)"
      ],
      "metadata": {
        "colab": {
          "base_uri": "https://localhost:8080/"
        },
        "id": "MDhQMR0y_al1",
        "outputId": "f62bc95f-027b-4309-a38b-1470cbe92a6e"
      },
      "execution_count": null,
      "outputs": [
        {
          "output_type": "stream",
          "name": "stdout",
          "text": [
            "[85, 95, 80, 65, 64, 87]\n"
          ]
        }
      ]
    },
    {
      "cell_type": "code",
      "source": [
        "# list normal\n",
        "scores = [80, 90, 75, 60, 59, 82]\n",
        "for score in scores:\n",
        "    if score >= 80:\n",
        "        print(score, \"passed\")\n",
        "    else:\n",
        "        print(score, \"failed\")"
      ],
      "metadata": {
        "colab": {
          "base_uri": "https://localhost:8080/"
        },
        "id": "U7DYMTXgAWzY",
        "outputId": "caeb90be-adb1-4f9c-9453-187439a8bcee"
      },
      "execution_count": null,
      "outputs": [
        {
          "output_type": "stream",
          "name": "stdout",
          "text": [
            "80 passed\n",
            "90 passed\n",
            "75 failed\n",
            "60 failed\n",
            "59 failed\n",
            "82 passed\n"
          ]
        }
      ]
    },
    {
      "cell_type": "code",
      "source": [
        "## list comprehension\n",
        "scores = [80, 90, 75, 60, 59, 82]\n",
        "new_grades = [\"passed\" if score >= 80 else \"failed\"\n",
        "              for score in scores]\n",
        "print(new_grades)"
      ],
      "metadata": {
        "colab": {
          "base_uri": "https://localhost:8080/"
        },
        "id": "E7iEa2ObAoWI",
        "outputId": "59e971e9-ecab-4968-c556-6046a7685322"
      },
      "execution_count": null,
      "outputs": [
        {
          "output_type": "stream",
          "name": "stdout",
          "text": [
            "['passed', 'passed', 'failed', 'failed', 'failed', 'passed']\n"
          ]
        }
      ]
    },
    {
      "cell_type": "code",
      "source": [
        "## tuple, ordered, immutable\n",
        "## tuple unpacking\n",
        "toy, jane, ann = 36, 29, 32\n",
        "arm, lis, orn = (34, 32, 15)\n",
        "print(toy, jane, ann)\n",
        "print(arm, lis, orn)"
      ],
      "metadata": {
        "colab": {
          "base_uri": "https://localhost:8080/"
        },
        "id": "gLSO9_yuBjl_",
        "outputId": "4fa3b524-c45f-4756-dab7-109e7a8d1efe"
      },
      "execution_count": null,
      "outputs": [
        {
          "output_type": "stream",
          "name": "stdout",
          "text": [
            "36 29 32\n",
            "34 32 15\n"
          ]
        }
      ]
    },
    {
      "cell_type": "code",
      "source": [
        "name = (\"arm\", \"joe\", \"john\")\n",
        "name[2] = \"john wick\""
      ],
      "metadata": {
        "colab": {
          "base_uri": "https://localhost:8080/",
          "height": 159
        },
        "id": "5d2YubKXE22K",
        "outputId": "cff65438-f433-4b1d-c568-93040299c0c5"
      },
      "execution_count": null,
      "outputs": [
        {
          "output_type": "error",
          "ename": "TypeError",
          "evalue": "'tuple' object does not support item assignment",
          "traceback": [
            "\u001b[0;31m---------------------------------------------------------------------------\u001b[0m",
            "\u001b[0;31mTypeError\u001b[0m                                 Traceback (most recent call last)",
            "\u001b[0;32m<ipython-input-26-d7e5f4ff2b11>\u001b[0m in \u001b[0;36m<cell line: 2>\u001b[0;34m()\u001b[0m\n\u001b[1;32m      1\u001b[0m \u001b[0mname\u001b[0m \u001b[0;34m=\u001b[0m \u001b[0;34m(\u001b[0m\u001b[0;34m\"arm\"\u001b[0m\u001b[0;34m,\u001b[0m \u001b[0;34m\"joe\"\u001b[0m\u001b[0;34m,\u001b[0m \u001b[0;34m\"john\"\u001b[0m\u001b[0;34m)\u001b[0m\u001b[0;34m\u001b[0m\u001b[0;34m\u001b[0m\u001b[0m\n\u001b[0;32m----> 2\u001b[0;31m \u001b[0mname\u001b[0m\u001b[0;34m[\u001b[0m\u001b[0;36m2\u001b[0m\u001b[0;34m]\u001b[0m \u001b[0;34m=\u001b[0m \u001b[0;34m\"john wick\"\u001b[0m\u001b[0;34m\u001b[0m\u001b[0;34m\u001b[0m\u001b[0m\n\u001b[0m",
            "\u001b[0;31mTypeError\u001b[0m: 'tuple' object does not support item assignment"
          ]
        }
      ]
    },
    {
      "cell_type": "code",
      "source": [
        "name = (\"arm\", \"joe\", \"john\", \"arm\")\n",
        "name.count(\"arm\")"
      ],
      "metadata": {
        "colab": {
          "base_uri": "https://localhost:8080/"
        },
        "id": "hlVf5n9DFcS1",
        "outputId": "f35e093e-0f9f-4286-9de1-b9bec2f7446d"
      },
      "execution_count": null,
      "outputs": [
        {
          "output_type": "execute_result",
          "data": {
            "text/plain": [
              "2"
            ]
          },
          "metadata": {},
          "execution_count": 31
        }
      ]
    },
    {
      "cell_type": "code",
      "source": [
        "name = (\"arm\", \"joe\", \"john\", \"arm\")\n",
        "name.index(\"joe\")"
      ],
      "metadata": {
        "colab": {
          "base_uri": "https://localhost:8080/"
        },
        "id": "OU4rUUVUF9Nd",
        "outputId": "2c41c3c5-99d3-4fcc-ed0f-95cbebb14df9"
      },
      "execution_count": null,
      "outputs": [
        {
          "output_type": "execute_result",
          "data": {
            "text/plain": [
              "1"
            ]
          },
          "metadata": {},
          "execution_count": 34
        }
      ]
    },
    {
      "cell_type": "code",
      "source": [
        "names = (\"arm\", \"joe\", \"john\")\n",
        "for name in names:\n",
        "    print(f\"hello! {name.capitalize()}\")\n"
      ],
      "metadata": {
        "colab": {
          "base_uri": "https://localhost:8080/"
        },
        "id": "P2vuAhz9Gzrx",
        "outputId": "2f0b3eef-9e92-465d-a46b-557b16f2f77f"
      },
      "execution_count": null,
      "outputs": [
        {
          "output_type": "stream",
          "name": "stdout",
          "text": [
            "hello! Arm\n",
            "hello! Joe\n",
            "hello! John\n"
          ]
        }
      ]
    },
    {
      "cell_type": "code",
      "source": [
        "## complex list\n",
        "complex_list = [\n",
        "    25, \"The Dark Knight\",\n",
        "    [1,2,3,4,5],\n",
        "    (\"hello\", \"ni hao\", \"sawasdee\")\n",
        "]\n",
        "\n",
        "complex_list[3][1]"
      ],
      "metadata": {
        "colab": {
          "base_uri": "https://localhost:8080/",
          "height": 35
        },
        "id": "yIVFTScoGNXx",
        "outputId": "6a88c3e6-e2d0-4d3b-a1a6-bfbcccc953b1"
      },
      "execution_count": null,
      "outputs": [
        {
          "output_type": "execute_result",
          "data": {
            "text/plain": [
              "'ni hao'"
            ],
            "application/vnd.google.colaboratory.intrinsic+json": {
              "type": "string"
            }
          },
          "metadata": {},
          "execution_count": 38
        }
      ]
    },
    {
      "cell_type": "code",
      "source": [
        "complex_tuple = (\"arm\", 42, 40, 50, 100, [\"hello\", \"nihao\"])"
      ],
      "metadata": {
        "id": "7WQdZGVwHur2"
      },
      "execution_count": null,
      "outputs": []
    },
    {
      "cell_type": "code",
      "source": [
        "## dictionary\n",
        "## key-value pair (similar to json)\n",
        "\n",
        "actor = {\n",
        "  \"name\": \"John Doe\",\n",
        "  \"age\": 30,\n",
        "  \"email\": \"johndoe@example.com\",\n",
        "  \"isSubscribed\": True,\n",
        "  \"languages\": [\"English\", \"Spanish\", \"French\"]\n",
        "}\n",
        "\n",
        "actor"
      ],
      "metadata": {
        "colab": {
          "base_uri": "https://localhost:8080/"
        },
        "id": "VcGaEVoAJXhu",
        "outputId": "d4ce06ae-dfc8-423e-93b4-ea59da1abdc0"
      },
      "execution_count": null,
      "outputs": [
        {
          "output_type": "execute_result",
          "data": {
            "text/plain": [
              "{'name': 'John Doe',\n",
              " 'age': 30,\n",
              " 'email': 'johndoe@example.com',\n",
              " 'isSubscribed': True,\n",
              " 'languages': ['English', 'Spanish', 'French']}"
            ]
          },
          "metadata": {},
          "execution_count": 40
        }
      ]
    },
    {
      "cell_type": "code",
      "source": [
        "customer_01 = {\n",
        "    \"name\": \"john wick\",\n",
        "    \"age\": 50,\n",
        "    \"fav_movies\": [\"Superman\", \"Inside Out\", \"Lion King\"],\n",
        "    \"gpa\": 3.41\n",
        "}\n",
        "\n",
        "customer_01"
      ],
      "metadata": {
        "colab": {
          "base_uri": "https://localhost:8080/"
        },
        "id": "erUzYWC8KDlV",
        "outputId": "31d94a39-fea2-4706-e3ca-29081a2e9cd5"
      },
      "execution_count": 64,
      "outputs": [
        {
          "output_type": "execute_result",
          "data": {
            "text/plain": [
              "{'name': 'john wick',\n",
              " 'age': 50,\n",
              " 'fav_movies': ['Superman', 'Inside Out', 'Lion King'],\n",
              " 'gpa': 3.41}"
            ]
          },
          "metadata": {},
          "execution_count": 64
        }
      ]
    },
    {
      "cell_type": "code",
      "source": [
        "# dictionary is unordered, mutable\n",
        "customer_01[\"name\"].upper()"
      ],
      "metadata": {
        "colab": {
          "base_uri": "https://localhost:8080/",
          "height": 35
        },
        "id": "iyqrFCpTKvIl",
        "outputId": "9140c197-d908-490e-f438-dfe677ca52f1"
      },
      "execution_count": null,
      "outputs": [
        {
          "output_type": "execute_result",
          "data": {
            "text/plain": [
              "'JOHN WICK'"
            ],
            "application/vnd.google.colaboratory.intrinsic+json": {
              "type": "string"
            }
          },
          "metadata": {},
          "execution_count": 43
        }
      ]
    },
    {
      "cell_type": "code",
      "source": [
        "customer_01[\"age\"]"
      ],
      "metadata": {
        "colab": {
          "base_uri": "https://localhost:8080/"
        },
        "id": "yWl6uvEHLhU4",
        "outputId": "4260cbca-36e1-4125-8f60-ad5c1e88e3a5"
      },
      "execution_count": null,
      "outputs": [
        {
          "output_type": "execute_result",
          "data": {
            "text/plain": [
              "50"
            ]
          },
          "metadata": {},
          "execution_count": 44
        }
      ]
    },
    {
      "cell_type": "code",
      "source": [
        "customer_01[\"fav_movies\"][0]"
      ],
      "metadata": {
        "colab": {
          "base_uri": "https://localhost:8080/",
          "height": 35
        },
        "id": "U8iW4qaHLwNS",
        "outputId": "f1c69424-ada2-4329-e39c-5f29d5786026"
      },
      "execution_count": null,
      "outputs": [
        {
          "output_type": "execute_result",
          "data": {
            "text/plain": [
              "'Superman'"
            ],
            "application/vnd.google.colaboratory.intrinsic+json": {
              "type": "string"
            }
          },
          "metadata": {},
          "execution_count": 47
        }
      ]
    },
    {
      "cell_type": "code",
      "source": [
        "customer_01[\"fav_movies\"][0::2]"
      ],
      "metadata": {
        "colab": {
          "base_uri": "https://localhost:8080/"
        },
        "id": "rdK-s3sjLz6a",
        "outputId": "3cb958b6-593f-4597-9cb2-6210f1b2409b"
      },
      "execution_count": null,
      "outputs": [
        {
          "output_type": "execute_result",
          "data": {
            "text/plain": [
              "['Superman', 'Lion King']"
            ]
          },
          "metadata": {},
          "execution_count": 48
        }
      ]
    },
    {
      "cell_type": "code",
      "source": [
        "# dictionary method\n",
        "customer_01.keys()"
      ],
      "metadata": {
        "colab": {
          "base_uri": "https://localhost:8080/"
        },
        "id": "QkkaamOsL7D0",
        "outputId": "ad9d5eda-f8f7-460b-ef60-ab7cbb79026f"
      },
      "execution_count": null,
      "outputs": [
        {
          "output_type": "execute_result",
          "data": {
            "text/plain": [
              "dict_keys(['name', 'age', 'fav_movies', 'gpa'])"
            ]
          },
          "metadata": {},
          "execution_count": 50
        }
      ]
    },
    {
      "cell_type": "code",
      "source": [
        "list(customer_01.keys())"
      ],
      "metadata": {
        "id": "naLIOJLBMId_",
        "colab": {
          "base_uri": "https://localhost:8080/"
        },
        "outputId": "6e5239ea-4915-4e0f-b54d-01326f894a05"
      },
      "execution_count": 51,
      "outputs": [
        {
          "output_type": "execute_result",
          "data": {
            "text/plain": [
              "['name', 'age', 'fav_movies', 'gpa']"
            ]
          },
          "metadata": {},
          "execution_count": 51
        }
      ]
    },
    {
      "cell_type": "code",
      "source": [
        "tuple(customer_01.keys())"
      ],
      "metadata": {
        "id": "Yxwl-sA3MNQN",
        "colab": {
          "base_uri": "https://localhost:8080/"
        },
        "outputId": "eca2031f-53da-440a-9f46-3fc5230a01ec"
      },
      "execution_count": 52,
      "outputs": [
        {
          "output_type": "execute_result",
          "data": {
            "text/plain": [
              "('name', 'age', 'fav_movies', 'gpa')"
            ]
          },
          "metadata": {},
          "execution_count": 52
        }
      ]
    },
    {
      "cell_type": "code",
      "source": [
        "## key is immutable\n",
        "{0: \"arm\", \"1\": \"top\", 2: \"tap\"}"
      ],
      "metadata": {
        "id": "zT1gbvXvMPSe",
        "colab": {
          "base_uri": "https://localhost:8080/"
        },
        "outputId": "06a1db0d-b938-40c2-87cf-fdaf51bbc342"
      },
      "execution_count": 53,
      "outputs": [
        {
          "output_type": "execute_result",
          "data": {
            "text/plain": [
              "{0: 'arm', '1': 'top', 2: 'tap'}"
            ]
          },
          "metadata": {},
          "execution_count": 53
        }
      ]
    },
    {
      "cell_type": "code",
      "source": [
        "customer_01.values()"
      ],
      "metadata": {
        "colab": {
          "base_uri": "https://localhost:8080/"
        },
        "id": "bNUGBJsXNjJv",
        "outputId": "b07fbbc6-69e7-49c2-c77f-db773f930328"
      },
      "execution_count": 54,
      "outputs": [
        {
          "output_type": "execute_result",
          "data": {
            "text/plain": [
              "dict_values(['john wick', 50, ['Superman', 'Inside Out', 'Lion King'], 3.41])"
            ]
          },
          "metadata": {},
          "execution_count": 54
        }
      ]
    },
    {
      "cell_type": "code",
      "source": [
        "list(customer_01.values())"
      ],
      "metadata": {
        "colab": {
          "base_uri": "https://localhost:8080/"
        },
        "id": "PBLKgpmUN5dz",
        "outputId": "e44f2ece-f01c-41c5-996d-71a6ff12c842"
      },
      "execution_count": 55,
      "outputs": [
        {
          "output_type": "execute_result",
          "data": {
            "text/plain": [
              "['john wick', 50, ['Superman', 'Inside Out', 'Lion King'], 3.41]"
            ]
          },
          "metadata": {},
          "execution_count": 55
        }
      ]
    },
    {
      "cell_type": "code",
      "source": [
        "customer_01.items()"
      ],
      "metadata": {
        "colab": {
          "base_uri": "https://localhost:8080/"
        },
        "id": "edWhefPTOBla",
        "outputId": "8b8763f5-3235-460e-c916-b7696f891e7f"
      },
      "execution_count": 56,
      "outputs": [
        {
          "output_type": "execute_result",
          "data": {
            "text/plain": [
              "dict_items([('name', 'john wick'), ('age', 50), ('fav_movies', ['Superman', 'Inside Out', 'Lion King']), ('gpa', 3.41)])"
            ]
          },
          "metadata": {},
          "execution_count": 56
        }
      ]
    },
    {
      "cell_type": "code",
      "source": [
        "list(customer_01.items())"
      ],
      "metadata": {
        "colab": {
          "base_uri": "https://localhost:8080/"
        },
        "id": "ewXlrEOVOUm5",
        "outputId": "b8ff5f85-fd3b-412b-e2b5-a96748ca12c9"
      },
      "execution_count": 57,
      "outputs": [
        {
          "output_type": "execute_result",
          "data": {
            "text/plain": [
              "[('name', 'john wick'),\n",
              " ('age', 50),\n",
              " ('fav_movies', ['Superman', 'Inside Out', 'Lion King']),\n",
              " ('gpa', 3.41)]"
            ]
          },
          "metadata": {},
          "execution_count": 57
        }
      ]
    },
    {
      "cell_type": "code",
      "source": [
        "for item in list(customer_01.items()):\n",
        "    print(item)"
      ],
      "metadata": {
        "colab": {
          "base_uri": "https://localhost:8080/"
        },
        "id": "0RZAbDkeOW54",
        "outputId": "1b4a057d-de21-4ae3-8a23-e1aee657799f"
      },
      "execution_count": 58,
      "outputs": [
        {
          "output_type": "stream",
          "name": "stdout",
          "text": [
            "('name', 'john wick')\n",
            "('age', 50)\n",
            "('fav_movies', ['Superman', 'Inside Out', 'Lion King'])\n",
            "('gpa', 3.41)\n"
          ]
        }
      ]
    },
    {
      "cell_type": "code",
      "source": [
        "## crete new key\n",
        "customer = customer_01\n",
        "customer[\"city\"] = \"Bangkok\"\n",
        "customer[\"nationality\"] = \"American\"\n",
        "\n",
        "customer"
      ],
      "metadata": {
        "colab": {
          "base_uri": "https://localhost:8080/"
        },
        "id": "v1ELNyl8O_md",
        "outputId": "a9db74df-8258-4c8d-f687-50d48471ec83"
      },
      "execution_count": 65,
      "outputs": [
        {
          "output_type": "execute_result",
          "data": {
            "text/plain": [
              "{'name': 'john wick',\n",
              " 'age': 50,\n",
              " 'fav_movies': ['Superman', 'Inside Out', 'Lion King'],\n",
              " 'gpa': 3.41,\n",
              " 'city': 'Bangkok',\n",
              " 'nationality': 'American'}"
            ]
          },
          "metadata": {},
          "execution_count": 65
        }
      ]
    },
    {
      "cell_type": "code",
      "source": [
        "## remove gpa key\n",
        "del customer[\"gpa\"]\n",
        "\n",
        "## use method\n",
        "customer.pop(\"city\")\n",
        "\n",
        "customer"
      ],
      "metadata": {
        "colab": {
          "base_uri": "https://localhost:8080/"
        },
        "id": "I4_bDQYaPWxP",
        "outputId": "9b597d5c-d791-4c52-9057-7570780ebe21"
      },
      "execution_count": 66,
      "outputs": [
        {
          "output_type": "execute_result",
          "data": {
            "text/plain": [
              "{'name': 'john wick',\n",
              " 'age': 50,\n",
              " 'fav_movies': ['Superman', 'Inside Out', 'Lion King'],\n",
              " 'nationality': 'American'}"
            ]
          },
          "metadata": {},
          "execution_count": 66
        }
      ]
    },
    {
      "cell_type": "code",
      "source": [
        "## update value\n",
        "print(customer)\n",
        "customer[\"name\"] = \"David Beckham\"\n",
        "customer"
      ],
      "metadata": {
        "colab": {
          "base_uri": "https://localhost:8080/"
        },
        "id": "pPG-2ZiHP3jZ",
        "outputId": "0901f2ba-504c-4618-fa3b-60ceb28d0169"
      },
      "execution_count": 70,
      "outputs": [
        {
          "output_type": "stream",
          "name": "stdout",
          "text": [
            "{'name': 'John Wick', 'age': 50, 'fav_movies': ['Superman', 'Inside Out', 'Lion King'], 'nationality': 'American'}\n"
          ]
        },
        {
          "output_type": "execute_result",
          "data": {
            "text/plain": [
              "{'name': 'David Beckham',\n",
              " 'age': 50,\n",
              " 'fav_movies': ['Superman', 'Inside Out', 'Lion King'],\n",
              " 'nationality': 'American'}"
            ]
          },
          "metadata": {},
          "execution_count": 70
        }
      ]
    },
    {
      "cell_type": "code",
      "source": [
        "## the last data structure: set\n",
        "## set is used to find distinct/ unique values\n",
        "set([1,1,2,3,4])"
      ],
      "metadata": {
        "colab": {
          "base_uri": "https://localhost:8080/"
        },
        "id": "fpjfTUk_RCrr",
        "outputId": "fb59876a-2224-43fb-a265-e35dd4338bc7"
      },
      "execution_count": 78,
      "outputs": [
        {
          "output_type": "execute_result",
          "data": {
            "text/plain": [
              "{1, 2, 3, 4}"
            ]
          },
          "metadata": {},
          "execution_count": 78
        }
      ]
    },
    {
      "cell_type": "code",
      "source": [
        "set((1,1,2,3,4))"
      ],
      "metadata": {
        "colab": {
          "base_uri": "https://localhost:8080/"
        },
        "id": "pjLkmE1XRjaI",
        "outputId": "1d683c00-fbbc-4be8-c602-dc21fd7b51a1"
      },
      "execution_count": 79,
      "outputs": [
        {
          "output_type": "execute_result",
          "data": {
            "text/plain": [
              "{1, 2, 3, 4}"
            ]
          },
          "metadata": {},
          "execution_count": 79
        }
      ]
    },
    {
      "cell_type": "code",
      "source": [
        "set([\"orange\", \"orange\", \"banana\"])"
      ],
      "metadata": {
        "colab": {
          "base_uri": "https://localhost:8080/"
        },
        "id": "nXpKKT9jR02X",
        "outputId": "a53b697b-b0c5-43a3-bfdb-965d516486e9"
      },
      "execution_count": 80,
      "outputs": [
        {
          "output_type": "execute_result",
          "data": {
            "text/plain": [
              "{'banana', 'orange'}"
            ]
          },
          "metadata": {},
          "execution_count": 80
        }
      ]
    },
    {
      "cell_type": "code",
      "source": [
        "## set operation\n",
        "## union and intersection\n",
        "mary = {\"orange\", \"apple\"}\n",
        "toy = {\"apple\",\"durian\"}\n",
        "\n",
        "mary & toy"
      ],
      "metadata": {
        "colab": {
          "base_uri": "https://localhost:8080/"
        },
        "id": "UFI2tvxMSXXv",
        "outputId": "d0267685-dc67-4c2a-86a2-1e50f7fde466"
      },
      "execution_count": 82,
      "outputs": [
        {
          "output_type": "execute_result",
          "data": {
            "text/plain": [
              "{'apple'}"
            ]
          },
          "metadata": {},
          "execution_count": 82
        }
      ]
    },
    {
      "cell_type": "code",
      "source": [
        "mary - toy"
      ],
      "metadata": {
        "colab": {
          "base_uri": "https://localhost:8080/"
        },
        "id": "mySDc4NkTJTc",
        "outputId": "ec96170c-771f-4c3d-a523-a3e98fbcc647"
      },
      "execution_count": 83,
      "outputs": [
        {
          "output_type": "execute_result",
          "data": {
            "text/plain": [
              "{'orange'}"
            ]
          },
          "metadata": {},
          "execution_count": 83
        }
      ]
    },
    {
      "cell_type": "markdown",
      "source": [
        "## Recap Data Structures\n",
        "\n",
        "1. list\n",
        "2. tuple\n",
        "3. dictionary\n",
        "4. set"
      ],
      "metadata": {
        "id": "NuG850JIUaqp"
      }
    },
    {
      "cell_type": "markdown",
      "source": [
        "## **Function**\n",
        "\n",
        "User defined function"
      ],
      "metadata": {
        "id": "Mz4rXRk-IYpC"
      }
    },
    {
      "cell_type": "code",
      "source": [
        "## the most important thing why we write functions\n",
        "## because they are reusable.\n",
        "def hello():\n",
        "    print(\"hello world\")"
      ],
      "metadata": {
        "id": "zTJ9v5V3IhA-"
      },
      "execution_count": 1,
      "outputs": []
    },
    {
      "cell_type": "code",
      "source": [
        "hello()"
      ],
      "metadata": {
        "colab": {
          "base_uri": "https://localhost:8080/"
        },
        "id": "RZR8nG7bIoVI",
        "outputId": "016f3558-3b92-4c46-bca4-1cded2116d1b"
      },
      "execution_count": 2,
      "outputs": [
        {
          "output_type": "stream",
          "name": "stdout",
          "text": [
            "hello world\n"
          ]
        }
      ]
    },
    {
      "cell_type": "code",
      "source": [
        "def hello2(name):\n",
        "    print(\"hello \" + name)\n",
        "\n",
        "hello2(\"john\")"
      ],
      "metadata": {
        "colab": {
          "base_uri": "https://localhost:8080/"
        },
        "id": "udTDO_erIrAV",
        "outputId": "e09c6752-76bc-448c-9da2-757e18762ef2"
      },
      "execution_count": 3,
      "outputs": [
        {
          "output_type": "stream",
          "name": "stdout",
          "text": [
            "hello john\n"
          ]
        }
      ]
    },
    {
      "cell_type": "code",
      "source": [
        "## default argument\n",
        "def hello3(name=\"arm\"):\n",
        "    print(\"hello \" + name)\n",
        "\n",
        "hello3(\"john\")\n",
        "hello3()"
      ],
      "metadata": {
        "colab": {
          "base_uri": "https://localhost:8080/"
        },
        "id": "xEURQqBOJ4nK",
        "outputId": "8a957475-e166-4baa-eb81-e4b8a8ef59fe"
      },
      "execution_count": 5,
      "outputs": [
        {
          "output_type": "stream",
          "name": "stdout",
          "text": [
            "hello john\n",
            "hello arm\n"
          ]
        }
      ]
    },
    {
      "cell_type": "code",
      "source": [
        "## can we get input from a user?\n",
        "def greeting():\n",
        "    username = input(\"What's your name: \")\n",
        "    result = f\"Hi {username}!\"\n",
        "    print(result)\n",
        "    action = input(\"What are you going to do today? \")\n",
        "    print(f\"You're going to {action}. Great!\")"
      ],
      "metadata": {
        "id": "9TRJdMzfKUgx"
      },
      "execution_count": 10,
      "outputs": []
    },
    {
      "cell_type": "code",
      "source": [
        "greeting()"
      ],
      "metadata": {
        "colab": {
          "base_uri": "https://localhost:8080/"
        },
        "id": "sydhsjx_LdGF",
        "outputId": "94e36d94-71f2-45d4-e95a-1d5642291c9c"
      },
      "execution_count": 11,
      "outputs": [
        {
          "output_type": "stream",
          "name": "stdout",
          "text": [
            "What's your name: Arm\n",
            "Hi Arm!\n",
            "What are you going to do today? learn Python\n",
            "You're going to learn Python. Great!\n"
          ]
        }
      ]
    },
    {
      "cell_type": "code",
      "source": [
        "user_age = int(input(\"How old are you: \"))\n",
        "print(user_age, type(user_age))"
      ],
      "metadata": {
        "colab": {
          "base_uri": "https://localhost:8080/"
        },
        "id": "_V28pZSnLgA7",
        "outputId": "cadb3229-4a54-4a37-ea33-411950d02e28"
      },
      "execution_count": 12,
      "outputs": [
        {
          "output_type": "stream",
          "name": "stdout",
          "text": [
            "How old are you: 25\n",
            "25 <class 'int'>\n"
          ]
        }
      ]
    },
    {
      "cell_type": "code",
      "source": [
        "## function can have more than one parameters\n",
        "def my_power(base=2, power=3):\n",
        "    return base**power"
      ],
      "metadata": {
        "id": "soEpQ9PsMkeu"
      },
      "execution_count": 13,
      "outputs": []
    },
    {
      "cell_type": "code",
      "source": [
        "result = my_power(base=9, power=2) ## 9**2\n",
        "print(result)"
      ],
      "metadata": {
        "colab": {
          "base_uri": "https://localhost:8080/"
        },
        "id": "wCYiXBMMN9IY",
        "outputId": "af9156ea-8d58-417e-d4ad-61e1948766f5"
      },
      "execution_count": 14,
      "outputs": [
        {
          "output_type": "stream",
          "name": "stdout",
          "text": [
            "81\n"
          ]
        }
      ]
    },
    {
      "cell_type": "code",
      "source": [
        "result = my_power(power=2,base=9) ## 9**2\n",
        "print(result)"
      ],
      "metadata": {
        "colab": {
          "base_uri": "https://localhost:8080/"
        },
        "id": "Ikz-5zC0OJDp",
        "outputId": "066de292-7208-45ad-d64c-a9027edc5c67"
      },
      "execution_count": 15,
      "outputs": [
        {
          "output_type": "stream",
          "name": "stdout",
          "text": [
            "81\n"
          ]
        }
      ]
    },
    {
      "cell_type": "code",
      "source": [
        "## regular function\n",
        "# def double(num):\n",
        "#     return num*2\n",
        "\n",
        "## lambda function\n",
        "double = lambda num: num*2\n",
        "\n",
        "double(52)"
      ],
      "metadata": {
        "colab": {
          "base_uri": "https://localhost:8080/",
          "height": 35
        },
        "id": "eU0ZJj2mQRRK",
        "outputId": "6599dcaa-9366-4d97-a07f-9c4f70001402"
      },
      "execution_count": 18,
      "outputs": [
        {
          "output_type": "execute_result",
          "data": {
            "text/plain": [
              "'hello arm'"
            ],
            "application/vnd.google.colaboratory.intrinsic+json": {
              "type": "string"
            }
          },
          "metadata": {},
          "execution_count": 18
        }
      ]
    },
    {
      "cell_type": "code",
      "source": [
        "hello = lambda name: \"hello \" + name\n",
        "hello(name=\"arm\")"
      ],
      "metadata": {
        "colab": {
          "base_uri": "https://localhost:8080/",
          "height": 35
        },
        "id": "9EU-7lNSQ-CO",
        "outputId": "58f7852e-a8bf-4b8d-c344-1e9d10a2ab8c"
      },
      "execution_count": 19,
      "outputs": [
        {
          "output_type": "execute_result",
          "data": {
            "text/plain": [
              "'hello arm'"
            ],
            "application/vnd.google.colaboratory.intrinsic+json": {
              "type": "string"
            }
          },
          "metadata": {},
          "execution_count": 19
        }
      ]
    },
    {
      "cell_type": "markdown",
      "source": [
        "## **Control Flow**\n",
        "\n",
        "1. if\n",
        "2. for\n",
        "3. while"
      ],
      "metadata": {
        "id": "vj6aPgdYPHGu"
      }
    },
    {
      "cell_type": "code",
      "source": [
        "def grading(score):\n",
        "    \"\"\"\n",
        "    input: score is a numeric number\n",
        "    output: grade passed or failed\n",
        "    \"\"\"\n",
        "    if (score >= 80):\n",
        "        return \"Passed\"\n",
        "    else:\n",
        "        return \"Failed\"\n",
        "\n",
        "print(grading(90))\n",
        "print(grading(75))"
      ],
      "metadata": {
        "colab": {
          "base_uri": "https://localhost:8080/"
        },
        "id": "LT4NmcGaPIjn",
        "outputId": "851b9999-0016-45bc-9972-b60d7219b3f8"
      },
      "execution_count": 21,
      "outputs": [
        {
          "output_type": "stream",
          "name": "stdout",
          "text": [
            "Passed\n",
            "Failed\n"
          ]
        }
      ]
    },
    {
      "cell_type": "code",
      "source": [
        "## multiple if else\n",
        "def full_grading(score):\n",
        "    if score >= 80:\n",
        "        return \"A\"\n",
        "    elif score >= 70:\n",
        "        return \"B\"\n",
        "    elif score >= 60:\n",
        "        return \"C\"\n",
        "    else:\n",
        "        return \"Retry the exam again\"\n",
        "\n",
        "print(full_grading(90))\n",
        "print(full_grading(75))\n",
        "print(full_grading(62))\n",
        "print(full_grading(59))"
      ],
      "metadata": {
        "colab": {
          "base_uri": "https://localhost:8080/"
        },
        "id": "zKP0hTf1R2zo",
        "outputId": "7da40a63-6817-451b-bd8d-68904796063f"
      },
      "execution_count": 22,
      "outputs": [
        {
          "output_type": "stream",
          "name": "stdout",
          "text": [
            "A\n",
            "B\n",
            "C\n",
            "Retry the exam again\n"
          ]
        }
      ]
    },
    {
      "cell_type": "code",
      "source": [
        "# if multiple conditions\n",
        "# morning weekday => cereal\n",
        "# morning weekend => hamburger\n",
        "# else => fasting\n",
        "time = \"morning\"\n",
        "day = \"weekday\"\n",
        "\n",
        "if time == \"morning\" and day == \"weekday\":\n",
        "    print(\"I'm eating cereal\")\n",
        "elif time == \"morning\" or day == \"weekend\":\n",
        "    print(\"I'm eating hamburger\")\n",
        "else:\n",
        "    print(\"No eating, I'm fasting\")"
      ],
      "metadata": {
        "colab": {
          "base_uri": "https://localhost:8080/"
        },
        "id": "srJ7-52QTU3w",
        "outputId": "0fde7a69-54d9-49ef-b31b-5dbf08981b35"
      },
      "execution_count": 23,
      "outputs": [
        {
          "output_type": "stream",
          "name": "stdout",
          "text": [
            "I'm eating cereal\n"
          ]
        }
      ]
    },
    {
      "cell_type": "code",
      "source": [
        "time = \"lunch\"\n",
        "day = \"weekend\"\n",
        "if time == \"morning\" and day == \"weekday\":\n",
        "    print(\"I'm eating cereal\")\n",
        "elif time == \"morning\" or day == \"weekend\":\n",
        "    print(\"I'm eating hamburger\")\n",
        "else:\n",
        "    print(\"No eating, I'm fasting\")"
      ],
      "metadata": {
        "colab": {
          "base_uri": "https://localhost:8080/"
        },
        "id": "rtU9hhOAV5oO",
        "outputId": "40496039-dc79-4527-e338-b5cb548f198c"
      },
      "execution_count": 26,
      "outputs": [
        {
          "output_type": "stream",
          "name": "stdout",
          "text": [
            "I'm eating hamburger\n"
          ]
        }
      ]
    },
    {
      "cell_type": "code",
      "source": [
        "time = \"lunch\"\n",
        "day = \"weekday\"\n",
        "if time == \"morning\" and day == \"weekday\":\n",
        "    print(\"I'm eating cereal\")\n",
        "elif time == \"morning\" and day == \"weekend\":\n",
        "    print(\"I'm eating hamburger\")\n",
        "else:\n",
        "    print(\"No eating, I'm fasting\")"
      ],
      "metadata": {
        "colab": {
          "base_uri": "https://localhost:8080/"
        },
        "id": "mEP4LEzeWCQN",
        "outputId": "738190f6-0f0a-40de-eed2-c2547b2fb7cf"
      },
      "execution_count": 25,
      "outputs": [
        {
          "output_type": "stream",
          "name": "stdout",
          "text": [
            "No eating, I'm fasting\n"
          ]
        }
      ]
    },
    {
      "cell_type": "code",
      "source": [
        "## recap for\n",
        "for item in [\"orange\", \"apple\", \"banana\"]:\n",
        "    print(item.upper())"
      ],
      "metadata": {
        "colab": {
          "base_uri": "https://localhost:8080/"
        },
        "id": "m8O7U-WKWM71",
        "outputId": "cbd79f36-b373-41d1-ebb9-b606a53b117e"
      },
      "execution_count": 29,
      "outputs": [
        {
          "output_type": "stream",
          "name": "stdout",
          "text": [
            "ORANGE\n",
            "APPLE\n",
            "BANANA\n"
          ]
        }
      ]
    },
    {
      "cell_type": "code",
      "source": [
        "for item in [\"orange\", \"apple\", \"grape\", \"banana\"]:\n",
        "    if len(item) > 5:\n",
        "        print(item)"
      ],
      "metadata": {
        "colab": {
          "base_uri": "https://localhost:8080/"
        },
        "id": "CwflyjSnW2J1",
        "outputId": "cf4cfa9d-cddc-4bc6-a009-717f409395eb"
      },
      "execution_count": 31,
      "outputs": [
        {
          "output_type": "stream",
          "name": "stdout",
          "text": [
            "orange\n",
            "banana\n"
          ]
        }
      ]
    },
    {
      "cell_type": "code",
      "source": [
        "## while loop\n",
        "count = 0 # use for track is it out loop or not\n",
        "while count < 5:\n",
        "    print(\"hello world\")\n",
        "    count += 1"
      ],
      "metadata": {
        "colab": {
          "base_uri": "https://localhost:8080/"
        },
        "id": "BNrkwhbeXclF",
        "outputId": "eaa8d317-4613-4c32-c68b-b0abaf990a81"
      },
      "execution_count": 32,
      "outputs": [
        {
          "output_type": "stream",
          "name": "stdout",
          "text": [
            "hello world\n",
            "hello world\n",
            "hello world\n",
            "hello world\n",
            "hello world\n"
          ]
        }
      ]
    },
    {
      "cell_type": "code",
      "source": [
        "## homework\n",
        "## 1. review methods (list, string) อย่างละ 5 อัน\n",
        "## 2. create this functionL pao ying chub"
      ],
      "metadata": {
        "id": "3bUzHvV_YRrj"
      },
      "execution_count": 33,
      "outputs": []
    },
    {
      "cell_type": "code",
      "source": [
        "# 1. review methods (list, string) อย่างละ 5 อัน\n",
        "# list method\n",
        "number1 = [2,33,3,2,1,56,44,8,101,55,3,0]\n",
        "number2 = [99,56,88,22,1,44,66,88,99]\n",
        "\n",
        "# .append use for append element in end of list\n",
        "number1.append(99)\n",
        "print(number1)\n",
        "\n",
        "# .extend use for extend list with another list in the end\n",
        "number1.extend(number2)\n",
        "print(number1)\n",
        "\n",
        "#.sort use for sort data --> reverse=True is desc\n",
        "number1.sort(reverse=True)\n",
        "print(number1)\n",
        "\n",
        "# .count use for count how many specific element in list\n",
        "count = number1.count(99)\n",
        "print(count)\n",
        "\n",
        "# .clear use for clear all data in list\n",
        "number1.clear()\n",
        "print(number1)"
      ],
      "metadata": {
        "colab": {
          "base_uri": "https://localhost:8080/"
        },
        "id": "DzxY9x_RY-ia",
        "outputId": "3aaef098-f374-46cb-8399-abfd2b2dac08"
      },
      "execution_count": 69,
      "outputs": [
        {
          "output_type": "stream",
          "name": "stdout",
          "text": [
            "[2, 33, 3, 2, 1, 56, 44, 8, 101, 55, 3, 0, 99]\n",
            "[2, 33, 3, 2, 1, 56, 44, 8, 101, 55, 3, 0, 99, 99, 56, 88, 22, 1, 44, 66, 88, 99]\n",
            "[101, 99, 99, 99, 88, 88, 66, 56, 56, 55, 44, 44, 33, 22, 8, 3, 3, 2, 2, 1, 1, 0]\n",
            "3\n",
            "[]\n",
            "0000000033\n"
          ]
        }
      ]
    },
    {
      "cell_type": "code",
      "source": [
        "# string method\n",
        "# .zfill add number of 0 in front off string\n",
        "txt = \"33\"\n",
        "new_txt = txt.zfill(10)\n",
        "print(new_txt)\n",
        "\n",
        "# .strip() use for trim all space in the left and right side out\n",
        "text = \"     oho     \"\n",
        "new_text = text.strip()\n",
        "print(new_text)\n",
        "\n",
        "# .rjust can specific length of string and can set the value of the rest of the length rjust is text inm the right side\n",
        "text = \"hen\"\n",
        "new_text = text.rjust(10,\"0\")\n",
        "print(new_text)\n",
        "\n",
        "# .find use for find what's index of the string in the main string\n",
        "txt = \"Hello, welcome to my world.\"\n",
        "x = txt.find(\"welcome\")\n",
        "print(x)\n",
        "\n",
        "# .encode use for encode string default is utf-8\n",
        "txt = \"My name is Arm\"\n",
        "x = txt.encode()\n",
        "print(x)"
      ],
      "metadata": {
        "colab": {
          "base_uri": "https://localhost:8080/"
        },
        "id": "Bs3gl1YpmkOi",
        "outputId": "66007cb1-5746-45b4-f482-471558e8fbc9"
      },
      "execution_count": 4,
      "outputs": [
        {
          "output_type": "stream",
          "name": "stdout",
          "text": [
            "0000000033\n",
            "oho\n",
            "0000000hen\n",
            "7\n",
            "b'My name is Arm'\n"
          ]
        }
      ]
    },
    {
      "cell_type": "code",
      "source": [
        "# 2. create this functionL pao ying chub\n",
        "\n",
        "from random import choice\n",
        "\n",
        "def pao_ying_chub():\n",
        "    print(\"Let's play game!\")\n",
        "    print(\"Win at least 6 form 10 rounds!\")\n",
        "\n",
        "    hands = [\"hammer\", \"scissor\", \"paper\"]\n",
        "    user_point = 0\n",
        "    comp_point= 0\n",
        "    totals_round = 10\n",
        "    round = 1\n",
        "    while round <= 10:\n",
        "        print(f\"Start round {round}\")\n",
        "        computer_hand = choice(hands)\n",
        "\n",
        "        user_hand = input(\"Please choose your hand: [hammer, scissor, paper]\\nYour hand: \").lower()\n",
        "        while user_hand not in hands:\n",
        "            user_hand = input(\"Invalid hand! Please choose again: [hammer, scissor, paper]\\nYour hand: \").lower()\n",
        "\n",
        "        print(f\"Comp hand: {computer_hand}\")\n",
        "        round += 1\n",
        "\n",
        "        if ((user_hand == \"hammer\" and computer_hand == \"scissor\") or (user_hand == \"scissor\" and computer_hand == \"paper\") or (user_hand == \"paper\" and computer_hand == \"hammer\")):\n",
        "            user_point += 1\n",
        "            comp_point == 0\n",
        "            print(f\"You win: your point is {user_point}\")\n",
        "        elif ((user_hand == \"scissor\" and computer_hand == \"hammer\") or (user_hand == \"paper\" and computer_hand == \"scissor\") or (user_hand == \"hammer\" and computer_hand == \"paper\")):\n",
        "            user_point += 0\n",
        "            comp_point += 1\n",
        "            print(f\"You lose: your point is {user_point}\")\n",
        "        else:\n",
        "            user_point += 0\n",
        "            comp_point += 0\n",
        "            print(f\"You draw: your point is {user_point}\")\n",
        "\n",
        "    print(\"End game\")\n",
        "    if (user_point > comp_point):\n",
        "        print(\"You win this game\")\n",
        "    elif(user_point < comp_point):\n",
        "        print(\"You lose this game\")\n",
        "    else:\n",
        "        print(\"You tie this game\")\n",
        "\n",
        "pao_ying_chub()"
      ],
      "metadata": {
        "colab": {
          "base_uri": "https://localhost:8080/"
        },
        "id": "-q5fkbQEZOSm",
        "outputId": "1b5259a1-8fc0-4f74-dd1a-5296ecabb261"
      },
      "execution_count": 56,
      "outputs": [
        {
          "output_type": "stream",
          "name": "stdout",
          "text": [
            "Let's play game!\n",
            "Win at least 6 form 10 rounds!\n",
            "Start round 1\n",
            "Please choose your hand: [hammer, scissor, paper]\n",
            "Your hand: hammer\n",
            "Comp hand: scissor\n",
            "You win: your point is 1\n",
            "End game\n",
            "You win this game\n"
          ]
        }
      ]
    },
    {
      "cell_type": "code",
      "source": [],
      "metadata": {
        "id": "JKqu9cdZZQSD"
      },
      "execution_count": null,
      "outputs": []
    }
  ]
}